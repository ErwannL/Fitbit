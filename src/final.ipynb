{
 "cells": [
  {
   "cell_type": "markdown",
   "metadata": {},
   "source": [
    "# Fitbit Jupyter Notebook\n",
    "\n",
    "## Step 1: Analyse the data"
   ]
  },
  {
   "cell_type": "code",
   "execution_count": null,
   "metadata": {},
   "outputs": [],
   "source": [
    "!pip install pandas matplotlib seaborn networkx scikit-learn imbalanced-learn"
   ]
  },
  {
   "cell_type": "code",
   "execution_count": null,
   "metadata": {},
   "outputs": [],
   "source": [
    "import pandas as pd\n",
    "import glob\n",
    "import os\n",
    "import matplotlib.pyplot as plt\n",
    "import seaborn as sns\n",
    "import networkx as nx\n",
    "from sklearn.ensemble import RandomForestClassifier\n",
    "from sklearn.metrics import accuracy_score, classification_report, confusion_matrix\n",
    "from imblearn.over_sampling import SMOTE  # For handling imbalanced data"
   ]
  },
  {
   "cell_type": "code",
   "execution_count": null,
   "metadata": {},
   "outputs": [],
   "source": [
    "# Define the path and get all CSV files\n",
    "path = \"../datas/Data Coaching Fitbit/\"\n",
    "files = glob.glob(os.path.join(path, \"*.csv\"))"
   ]
  },
  {
   "cell_type": "code",
   "execution_count": null,
   "metadata": {},
   "outputs": [],
   "source": [
    "# List to store data from all CSVs\n",
    "dfs = []\n",
    "\n",
    "# Read all CSV files\n",
    "for file in files:\n",
    "    df = pd.read_csv(file)\n",
    "\n",
    "    # Convert 'date' column to datetime\n",
    "    df['date'] = pd.to_datetime(df['date'])\n",
    "\n",
    "    # Keep only weekdays (Monday to Friday)\n",
    "    df = df[df['date'].dt.weekday < 5]\n",
    "\n",
    "    # Keep only records before 18:00\n",
    "    df = df[df['date'].dt.hour < 18]\n",
    "\n",
    "    # Append the cleaned data\n",
    "    dfs.append(df)"
   ]
  },
  {
   "cell_type": "code",
   "execution_count": null,
   "metadata": {},
   "outputs": [],
   "source": [
    "# Concatenate all data\n",
    "df = pd.concat(dfs, ignore_index=True)"
   ]
  },
  {
   "cell_type": "markdown",
   "metadata": {},
   "source": [
    "### Plot 1: Analyze activity by persons"
   ]
  },
  {
   "cell_type": "code",
   "execution_count": null,
   "metadata": {},
   "outputs": [],
   "source": [
    "# Function to plot data for a single person\n",
    "def plot_person_data(treatment_id, df):\n",
    "    fig, axes = plt.subplots(2, 2, figsize=(12, 10))\n",
    "    fig.suptitle(f'Activity Data for Person {treatment_id}')\n",
    "\n",
    "    # Steps over time\n",
    "    axes[0, 0].plot(df['date'], df['steps'], marker='o', linestyle='-', label='Steps')\n",
    "    axes[0, 0].set_title('Steps Over Time')\n",
    "    axes[0, 0].set_xlabel('Date')\n",
    "    axes[0, 0].set_ylabel('Steps')\n",
    "    axes[0, 0].legend()\n",
    "\n",
    "    # Calories over time\n",
    "    axes[0, 1].plot(df['date'], df['calories'], marker='o', linestyle='-', color='r', label='Calories')\n",
    "    axes[0, 1].set_title('Calories Burned Over Time')\n",
    "    axes[0, 1].set_xlabel('Date')\n",
    "    axes[0, 1].set_ylabel('Calories')\n",
    "    axes[0, 1].legend()\n",
    "\n",
    "    # Distance over time\n",
    "    axes[1, 0].plot(df['date'], df['distance'], marker='o', linestyle='-', color='g', label='Distance')\n",
    "    axes[1, 0].set_title('Distance Over Time')\n",
    "    axes[1, 0].set_xlabel('Date')\n",
    "    axes[1, 0].set_ylabel('Distance (km)')\n",
    "    axes[1, 0].legend()\n",
    "\n",
    "    # METs over time\n",
    "    axes[1, 1].plot(df['date'], df['mets'], marker='o', linestyle='-', color='purple', label='METs')\n",
    "    axes[1, 1].set_title('METs Over Time')\n",
    "    axes[1, 1].set_xlabel('Date')\n",
    "    axes[1, 1].set_ylabel('METs')\n",
    "    axes[1, 1].legend()\n",
    "\n",
    "    plt.xticks(rotation=45)\n",
    "    plt.tight_layout(rect=[0, 0, 1, 0.96])\n",
    "    plt.show()"
   ]
  },
  {
   "cell_type": "code",
   "execution_count": null,
   "metadata": {},
   "outputs": [],
   "source": [
    "# Group by treatment_id and plot each person's data\n",
    "for treatment_id, person_df in df.groupby(\"treatment_id\"):\n",
    "    plot_person_data(treatment_id, person_df)"
   ]
  },
  {
   "cell_type": "markdown",
   "metadata": {},
   "source": [
    "### Plot 2: Comparison of Activity across individuals"
   ]
  },
  {
   "cell_type": "code",
   "execution_count": null,
   "metadata": {},
   "outputs": [],
   "source": [
    "# Aggregated Data Analysis\n",
    "def plot_group_comparison(df):\n",
    "    df_summary = df.groupby(\"treatment_id\").agg({\n",
    "        \"steps\": \"mean\",\n",
    "        \"calories\": \"mean\",\n",
    "        \"distance\": \"mean\",\n",
    "        \"mets\": \"mean\"\n",
    "    }).rename(columns={\n",
    "        \"steps\": \"Avg Steps\",\n",
    "        \"calories\": \"Avg Calories\",\n",
    "        \"distance\": \"Avg Distance\",\n",
    "        \"mets\": \"Avg METs\"\n",
    "    })\n",
    "\n",
    "    fig, axes = plt.subplots(2, 2, figsize=(12, 10))\n",
    "    fig.suptitle(\"Comparison of Activity Metrics Across Individuals\")\n",
    "\n",
    "    df_summary[\"Avg Steps\"].plot(kind=\"bar\", ax=axes[0, 0], color=\"blue\")\n",
    "    axes[0, 0].set_title(\"Average Steps\")\n",
    "    axes[0, 0].set_ylabel(\"Steps\")\n",
    "\n",
    "    df_summary[\"Avg Calories\"].plot(kind=\"bar\", ax=axes[0, 1], color=\"red\")\n",
    "    axes[0, 1].set_title(\"Average Calories\")\n",
    "    axes[0, 1].set_ylabel(\"Calories\")\n",
    "\n",
    "    df_summary[\"Avg Distance\"].plot(kind=\"bar\", ax=axes[1, 0], color=\"green\")\n",
    "    axes[1, 0].set_title(\"Average Distance\")\n",
    "    axes[1, 0].set_ylabel(\"Distance (km)\")\n",
    "\n",
    "    df_summary[\"Avg METs\"].plot(kind=\"bar\", ax=axes[1, 1], color=\"purple\")\n",
    "    axes[1, 1].set_title(\"Average METs\")\n",
    "    axes[1, 1].set_ylabel(\"METs\")\n",
    "\n",
    "    for ax in axes.flat:\n",
    "        ax.set_xlabel(\"Person ID\")\n",
    "        ax.set_xticklabels(df_summary.index, rotation=45)\n",
    "\n",
    "    plt.tight_layout(rect=[0, 0, 1, 0.96])\n",
    "    plt.show()"
   ]
  },
  {
   "cell_type": "code",
   "execution_count": null,
   "metadata": {},
   "outputs": [],
   "source": [
    "plot_group_comparison(df)"
   ]
  },
  {
   "cell_type": "markdown",
   "metadata": {},
   "source": [
    "### Plot 3: Individual means"
   ]
  },
  {
   "cell_type": "code",
   "execution_count": null,
   "metadata": {},
   "outputs": [],
   "source": [
    "# Compute individual means for steps\n",
    "individual_means = df.groupby(['treatment_id', df['date'].dt.date])['steps'].mean().reset_index()\n",
    "\n",
    "print(\"Colonnes de df:\", df.columns)"
   ]
  },
  {
   "cell_type": "code",
   "execution_count": null,
   "metadata": {},
   "outputs": [],
   "source": [
    "# Convert 'date' back to datetime format\n",
    "individual_means['date'] = pd.to_datetime(individual_means['date'])"
   ]
  },
  {
   "cell_type": "code",
   "execution_count": null,
   "metadata": {},
   "outputs": [],
   "source": [
    "treatment_ids = individual_means['treatment_id'].unique()"
   ]
  },
  {
   "cell_type": "code",
   "execution_count": null,
   "metadata": {},
   "outputs": [],
   "source": [
    "for treatment in treatment_ids:\n",
    "    plt.figure(figsize=(12, 6))\n",
    "\n",
    "    # Filter data for the current treatment_id\n",
    "    subset = individual_means[individual_means['treatment_id'] == treatment].copy()  # Use .copy() here\n",
    "\n",
    "    # Convert 'date' to numeric for regression (safe modification)\n",
    "    subset.loc[:, 'date_numeric'] = (subset['date'] - subset['date'].min()).dt.days\n",
    "\n",
    "    # Plot regression for this individual\n",
    "    sns.regplot(data=subset, x='date_numeric', y='steps', scatter=True, ci=None, label=f'Treatment {treatment}')\n",
    "\n",
    "    # Set the x-ticks to the first day of each month (same as Plot 2)\n",
    "    months = pd.date_range(start=subset['date'].min(), end=subset['date'].max(), freq='MS')  # First day of each month\n",
    "    month_numeric = (months - subset['date'].min()).days  # Convert the months to numeric\n",
    "\n",
    "    # Apply the same x-tick formatting as in Plot 2 (YYYY/MM format)\n",
    "    plt.xticks(month_numeric, months.strftime('%Y/%m'), rotation=45)  # Format x-ticks as YYYY/MM and rotate for better readability\n",
    "\n",
    "    # Formatting\n",
    "    plt.title(f\"Individual Mean Steps for Treatment {treatment}\")\n",
    "    plt.xlabel(\"Date\")\n",
    "    plt.ylabel(\"Average Steps\")\n",
    "    plt.legend()\n",
    "    plt.show()"
   ]
  },
  {
   "cell_type": "markdown",
   "metadata": {},
   "source": [
    "### Plot 4: Average steps"
   ]
  },
  {
   "cell_type": "code",
   "execution_count": null,
   "metadata": {},
   "outputs": [],
   "source": [
    "# Compute the average of all individuals' steps per day\n",
    "average_steps = df.groupby([df['date'].dt.date])['steps'].mean().reset_index()"
   ]
  },
  {
   "cell_type": "code",
   "execution_count": null,
   "metadata": {},
   "outputs": [],
   "source": [
    "# Convert 'date' back to datetime format\n",
    "average_steps['date'] = pd.to_datetime(average_steps['date'])"
   ]
  },
  {
   "cell_type": "code",
   "execution_count": null,
   "metadata": {},
   "outputs": [],
   "source": [
    "# Calculate and print the average number of steps\n",
    "overall_avg_steps = average_steps['steps'].mean()\n",
    "print(f\"Average number of steps: {overall_avg_steps:.2f} by minute\")\n",
    "print(f\"Average number of steps: {overall_avg_steps * 60:.2f} by hour\")\n",
    "print(f\"Average number of steps: {overall_avg_steps * 60 * 24:.2f} by day\")"
   ]
  },
  {
   "cell_type": "code",
   "execution_count": null,
   "metadata": {},
   "outputs": [],
   "source": [
    "# Plot the average steps for all treatment_ids\n",
    "plt.figure(figsize=(12, 6))\n",
    "\n",
    "# Convert 'date' to numeric for regression (safe modification)\n",
    "average_steps['date_numeric'] = (average_steps['date'] - average_steps['date'].min()).dt.days\n",
    "\n",
    "# Plot the regression for the average steps\n",
    "sns.regplot(data=average_steps, x='date_numeric', y='steps', scatter=True, ci=None, label='Average Steps')\n",
    "\n",
    "# Set the x-ticks to the first day of each month (same as Plot 1)\n",
    "months = pd.date_range(start=average_steps['date'].min(), end=average_steps['date'].max(), freq='MS')  # First day of each month\n",
    "month_numeric = (months - average_steps['date'].min()).days  # Convert the months to numeric\n",
    "\n",
    "# Apply the same x-tick formatting as in Plot 1 (YYYY/MM format)\n",
    "plt.xticks(month_numeric, months.strftime('%Y/%m'), rotation=45)  # Format x-ticks as YYYY/MM and rotate for better readability\n",
    "\n",
    "# Formatting\n",
    "plt.title(\"Average Steps for All Treatment Groups\")\n",
    "plt.xlabel(\"Date\")\n",
    "plt.ylabel(\"Average Steps\")\n",
    "plt.legend()\n",
    "plt.show()"
   ]
  },
  {
   "cell_type": "markdown",
   "metadata": {},
   "source": [
    "### Plot 5: Individual plots with average steps superposed"
   ]
  },
  {
   "cell_type": "code",
   "execution_count": null,
   "metadata": {},
   "outputs": [],
   "source": [
    "# Compute the average of all individuals' steps per day for Plot 2 (same as above)\n",
    "average_steps = df.groupby([df['date'].dt.date])['steps'].mean().reset_index()\n",
    "\n",
    "print(\"Colonnes de df:\", df.columns)"
   ]
  },
  {
   "cell_type": "code",
   "execution_count": null,
   "metadata": {},
   "outputs": [],
   "source": [
    "# Convert 'date' back to datetime format\n",
    "average_steps['date'] = pd.to_datetime(average_steps['date'])"
   ]
  },
  {
   "cell_type": "code",
   "execution_count": null,
   "metadata": {},
   "outputs": [],
   "source": [
    "# Convert 'date' to numeric for regression (safe modification)\n",
    "average_steps['date_numeric'] = (average_steps['date'] - average_steps['date'].min()).dt.days"
   ]
  },
  {
   "cell_type": "code",
   "execution_count": null,
   "metadata": {},
   "outputs": [],
   "source": [
    "# Loop through all treatment_ids for individual plots\n",
    "for treatment in treatment_ids:\n",
    "    plt.figure(figsize=(12, 6))\n",
    "\n",
    "    # Filter data for the current treatment_id\n",
    "    subset = individual_means[individual_means['treatment_id'] == treatment].copy()  # Use .copy() here\n",
    "\n",
    "    # Convert 'date' to numeric for regression (safe modification)\n",
    "    subset.loc[:, 'date_numeric'] = (subset['date'] - subset['date'].min()).dt.days\n",
    "\n",
    "    # Plot regression for this individual\n",
    "    sns.regplot(data=subset, x='date_numeric', y='steps', scatter=True, ci=None, label=f'Treatment {treatment}')\n",
    "\n",
    "    # Plot the average steps for all individuals (same as Plot 2)\n",
    "    sns.regplot(data=average_steps, x='date_numeric', y='steps', scatter=False, color='black', label='Average Steps', line_kws={'color': 'black', 'linestyle': '--'})\n",
    "\n",
    "    # Set the x-ticks to the first day of each month (same as Plot 2)\n",
    "    months = pd.date_range(start=subset['date'].min(), end=subset['date'].max(), freq='MS')  # First day of each month\n",
    "    month_numeric = (months - subset['date'].min()).days  # Convert the months to numeric\n",
    "\n",
    "    # Apply the same x-tick formatting as in Plot 2 (YYYY/MM format)\n",
    "    plt.xticks(month_numeric, months.strftime('%Y/%m'), rotation=45)  # Format x-ticks as YYYY/MM and rotate for better readability\n",
    "\n",
    "    # Formatting\n",
    "    plt.title(f\"Individual Mean Steps and Average for Treatment {treatment}\")\n",
    "    plt.xlabel(\"Date\")\n",
    "    plt.ylabel(\"Average Steps\")\n",
    "    plt.legend()\n",
    "    plt.show()"
   ]
  },
  {
   "cell_type": "markdown",
   "metadata": {},
   "source": [
    "### Plot 6: Superposed individuals and average steps"
   ]
  },
  {
   "cell_type": "code",
   "execution_count": null,
   "metadata": {},
   "outputs": [],
   "source": [
    "# Compute the average of all individuals' steps per day\n",
    "average_steps = df.groupby([df['date'].dt.date])['steps'].mean().reset_index()\n",
    "average_steps['date'] = pd.to_datetime(average_steps['date'])\n",
    "average_steps['date_numeric'] = (average_steps['date'] - average_steps['date'].min()).dt.days\n",
    "\n",
    "print(\"Colonnes de df:\", df.columns)"
   ]
  },
  {
   "cell_type": "code",
   "execution_count": null,
   "metadata": {},
   "outputs": [],
   "source": [
    "# Get unique treatment IDs\n",
    "treatment_ids = individual_means['treatment_id'].unique()"
   ]
  },
  {
   "cell_type": "code",
   "execution_count": null,
   "metadata": {},
   "outputs": [],
   "source": [
    "# Define a list of colors manually (you peux ajouter plus si nécessaire)\n",
    "treatment_colors = ['#1f77b4', '#ff7f0e', '#2ca02c', '#d62728', '#9467bd', '#8c564b', '#e377c2', '#7f7f7f', '#bcbd22', '#17becf']"
   ]
  },
  {
   "cell_type": "code",
   "execution_count": null,
   "metadata": {},
   "outputs": [],
   "source": [
    "# Make sure there are enough colors for the number of treatment IDs\n",
    "if len(treatment_ids) > len(treatment_colors):\n",
    "    raise ValueError(\"Not enough colors for the number of treatment IDs!\")"
   ]
  },
  {
   "cell_type": "code",
   "execution_count": null,
   "metadata": {},
   "outputs": [],
   "source": [
    "plt.figure(figsize=(12, 6))\n",
    "\n",
    "# Loop through each treatment_id and plot individuals' data\n",
    "for i, treatment in enumerate(treatment_ids):\n",
    "    subset = individual_means[individual_means['treatment_id'] == treatment].copy()\n",
    "    subset.loc[:, 'date_numeric'] = (subset['date'] - subset['date'].min()).dt.days\n",
    "\n",
    "    # Scatter plot for each individual with unique color\n",
    "    sns.scatterplot(data=subset, x='date_numeric', y='steps', alpha=0.6, color=treatment_colors[i], label=f'Treatment {treatment}')\n",
    "\n",
    "    # Regression line for this treatment group\n",
    "    sns.regplot(data=subset, x='date_numeric', y='steps', scatter=False, ci=None, color=treatment_colors[i])\n",
    "\n",
    "# Plot the average steps for all individuals (in black, dashed)\n",
    "sns.regplot(data=average_steps, x='date_numeric', y='steps', scatter=False, color='black',\n",
    "            label='Average Steps', line_kws={'color': 'black', 'linestyle': '--'})\n",
    "\n",
    "# Set the x-ticks to the first day of each month\n",
    "months = pd.date_range(start=average_steps['date'].min(), end=average_steps['date'].max(), freq='MS')\n",
    "month_numeric = (months - average_steps['date'].min()).days\n",
    "\n",
    "plt.xticks(month_numeric, months.strftime('%Y/%m'), rotation=45)\n",
    "plt.title(\"Superposed Individual Steps and Average Steps\")\n",
    "plt.xlabel(\"Date\")\n",
    "plt.ylabel(\"Average Steps\")\n",
    "plt.legend()\n",
    "plt.show()\n"
   ]
  },
  {
   "cell_type": "markdown",
   "metadata": {},
   "source": [
    "### Plot 7: Correlation matrix"
   ]
  },
  {
   "cell_type": "code",
   "execution_count": null,
   "metadata": {},
   "outputs": [],
   "source": [
    "# Keep only numeric columns\n",
    "df_numeric = df.select_dtypes(include=['number'])"
   ]
  },
  {
   "cell_type": "code",
   "execution_count": null,
   "metadata": {},
   "outputs": [],
   "source": [
    "# Compute correlation matrix\n",
    "corr = df_numeric.corr()"
   ]
  },
  {
   "cell_type": "code",
   "execution_count": null,
   "metadata": {},
   "outputs": [],
   "source": [
    "# Print correlation matrix as a table\n",
    "print(\"Correlation Matrix:\")\n",
    "print(corr)"
   ]
  },
  {
   "cell_type": "code",
   "execution_count": null,
   "metadata": {},
   "outputs": [],
   "source": [
    "# Plot the correlation matrix\n",
    "plt.figure(figsize=(10, 8))\n",
    "sns.heatmap(corr, annot=True, cmap='coolwarm', center=0)\n",
    "plt.title(\"Correlation Matrix\", fontsize=20)\n",
    "plt.show()"
   ]
  },
  {
   "cell_type": "markdown",
   "metadata": {},
   "source": [
    "### Plot 8: DAG graph"
   ]
  },
  {
   "cell_type": "code",
   "execution_count": null,
   "metadata": {},
   "outputs": [],
   "source": [
    "# Initialize a directed graph\n",
    "dag = nx.DiGraph()"
   ]
  },
  {
   "cell_type": "code",
   "execution_count": null,
   "metadata": {},
   "outputs": [],
   "source": [
    "# Add nodes (features)\n",
    "features = ['date', 'working_days', 'calories', 'mets', 'level', 'steps', 'distance', 'season']\n",
    "dag.add_nodes_from(features)"
   ]
  },
  {
   "cell_type": "code",
   "execution_count": null,
   "metadata": {},
   "outputs": [],
   "source": [
    "# Define the relationships based on correlation analysis\n",
    "edges = [\n",
    "    ('date', 'working_days'),\n",
    "    ('date', 'season'),\n",
    "    ('working_days', 'steps'),\n",
    "    ('season', 'steps'),\n",
    "    ('steps', 'calories'),\n",
    "    ('steps', 'mets'),\n",
    "    ('steps', 'level'),\n",
    "    ('steps', 'distance'),\n",
    "]\n",
    "\n",
    "dag.add_edges_from(edges)"
   ]
  },
  {
   "cell_type": "code",
   "execution_count": null,
   "metadata": {},
   "outputs": [],
   "source": [
    "# Define custom positions for some nodes\n",
    "pos = {\n",
    "    'date': (0, 1),            # Position en haut pour 'date'\n",
    "    'working_days': (-1, 0),   # Position à gauche pour 'working_days'\n",
    "    'calories': (-1, -1),        # 'calories' au centre\n",
    "    'mets': (0, -1),            # 'mets' à droite de 'calories'\n",
    "    'season': (1, 0),          # 'level' en dessous de 'calories'\n",
    "    'steps': (0, 0),          # 'steps' en dessous de 'mets'\n",
    "    'distance': (-1, -2),        # 'distance' en bas de 'level'\n",
    "    'level': (1, -2)        # 'distance' en bas de 'level'\n",
    "}"
   ]
  },
  {
   "cell_type": "code",
   "execution_count": null,
   "metadata": {},
   "outputs": [],
   "source": [
    "# Visualize the DAG with custom positions\n",
    "plt.figure(figsize=(10, 8))\n",
    "nx.draw_networkx(dag, pos, with_labels=True, node_size=2000, node_color=\"skyblue\",\n",
    "                font_size=10, font_weight='bold', edge_color='black')\n",
    "plt.title(\"DAG Representing Relationships Between Features\", fontsize=20)\n",
    "plt.show()"
   ]
  },
  {
   "cell_type": "markdown",
   "metadata": {},
   "source": [
    "## Step 2: Build a first version of the model"
   ]
  },
  {
   "cell_type": "code",
   "execution_count": null,
   "metadata": {},
   "outputs": [],
   "source": [
    "# Calculate the average number of steps per person at 18:00 on a working day\n",
    "average_steps_per_person = df.groupby('fitbit_id')['steps'].mean()"
   ]
  },
  {
   "cell_type": "code",
   "execution_count": null,
   "metadata": {},
   "outputs": [],
   "source": [
    "print(\"Average number of steps per person at 18:00 on a working day:\")\n",
    "print(average_steps_per_person)"
   ]
  },
  {
   "cell_type": "code",
   "execution_count": null,
   "metadata": {},
   "outputs": [],
   "source": [
    "# Add 'season' feature\n",
    "def get_season(date):\n",
    "    month = date.month\n",
    "    if month in [12, 1, 2]:\n",
    "        return 'Winter'\n",
    "    elif month in [3, 4, 5]:\n",
    "        return 'Spring'\n",
    "    elif month in [6, 7, 8]:\n",
    "        return 'Summer'\n",
    "    else:\n",
    "        return 'Autumn'"
   ]
  },
  {
   "cell_type": "code",
   "execution_count": null,
   "metadata": {},
   "outputs": [],
   "source": [
    "df['season'] = df['date'].apply(get_season)"
   ]
  },
  {
   "cell_type": "code",
   "execution_count": null,
   "metadata": {},
   "outputs": [],
   "source": [
    "# Add 'is_holiday' feature (assuming you have a list of holidays)\n",
    "holidays = ['2023-01-01', '2023-12-25']  # Example list of holidays\n",
    "df['is_holiday'] = df['date'].dt.strftime('%Y-%m-%d').isin(holidays)"
   ]
  },
  {
   "cell_type": "code",
   "execution_count": null,
   "metadata": {},
   "outputs": [],
   "source": [
    "# Add 'day_of_week' feature\n",
    "df['day_of_week'] = df['date'].dt.weekday"
   ]
  },
  {
   "cell_type": "code",
   "execution_count": null,
   "metadata": {},
   "outputs": [],
   "source": [
    "# Add 'target' feature: whether the person reached their average steps\n",
    "df['target'] = df.apply(lambda row: 1 if row['steps'] >= average_steps_per_person[row['fitbit_id']] else 0, axis=1)"
   ]
  },
  {
   "cell_type": "code",
   "execution_count": null,
   "metadata": {},
   "outputs": [],
   "source": [
    "# Check the distribution of the target variable\n",
    "print(\"\\nDistribution of the target variable:\")\n",
    "print(df['target'].value_counts())"
   ]
  },
  {
   "cell_type": "code",
   "execution_count": null,
   "metadata": {},
   "outputs": [],
   "source": [
    "# One-hot encode categorical features\n",
    "df = pd.get_dummies(df, columns=['season', 'day_of_week'], drop_first=False)"
   ]
  },
  {
   "cell_type": "code",
   "execution_count": null,
   "metadata": {},
   "outputs": [],
   "source": [
    "# Ensure all expected columns are present\n",
    "expected_season_columns = ['season_Spring', 'season_Summer', 'season_Autumn', 'season_Winter']\n",
    "expected_day_columns = ['day_of_week_0', 'day_of_week_1', 'day_of_week_2', 'day_of_week_3', 'day_of_week_4']"
   ]
  },
  {
   "cell_type": "code",
   "execution_count": null,
   "metadata": {},
   "outputs": [],
   "source": [
    "for col in expected_season_columns:\n",
    "    if col not in df.columns:\n",
    "        df[col] = 0"
   ]
  },
  {
   "cell_type": "code",
   "execution_count": null,
   "metadata": {},
   "outputs": [],
   "source": [
    "for col in expected_day_columns:\n",
    "    if col not in df.columns:\n",
    "        df[col] = 0"
   ]
  },
  {
   "cell_type": "code",
   "execution_count": null,
   "metadata": {},
   "outputs": [],
   "source": [
    "# Define features and target\n",
    "features = ['calories', 'mets', 'level', 'distance', 'is_holiday'] + expected_season_columns + expected_day_columns\n",
    "X = df[features]\n",
    "y = df['target']"
   ]
  },
  {
   "cell_type": "code",
   "execution_count": null,
   "metadata": {},
   "outputs": [],
   "source": [
    "# Sort users by average steps (ascending)\n",
    "sorted_users = average_steps_per_person.sort_values().index.tolist()  # Lowest to highest"
   ]
  },
  {
   "cell_type": "code",
   "execution_count": null,
   "metadata": {},
   "outputs": [],
   "source": [
    "# Find the median user\n",
    "median_index = len(sorted_users) // 2"
   ]
  },
  {
   "cell_type": "code",
   "execution_count": null,
   "metadata": {},
   "outputs": [],
   "source": [
    "# Initialize variables\n",
    "train_users = []  # Start with the median user\n",
    "accuracy = 0\n",
    "min_accuracy = 0.7\n",
    "i = 1  # Start expanding from the median\n",
    "direction = 1  # 1 for higher steps, -1 for lower steps\n",
    "\n",
    "# Dynamically select training users until accuracy >= 0.7\n",
    "while accuracy < min_accuracy and i < len(sorted_users):\n",
    "    # Alternate between adding a higher-step user and a lower-step user\n",
    "    if direction == 1 and median_index + i < len(sorted_users):\n",
    "        train_users.append(sorted_users[median_index + i])  # Higher steps\n",
    "    elif direction == -1 and median_index - i >= 0:\n",
    "        train_users.append(sorted_users[median_index - i])  # Lower steps\n",
    "    \n",
    "    # Switch direction for the next iteration\n",
    "    direction *= -1\n",
    "    \n",
    "    # Filter data for training and testing\n",
    "    train_data = df[df['fitbit_id'].isin(train_users)]\n",
    "    test_data = df[~df['fitbit_id'].isin(train_users)]\n",
    "    \n",
    "    # Prepare features and target for training and testing\n",
    "    X_train = train_data[features]\n",
    "    y_train = train_data['target']\n",
    "\n",
    "    print(X_train, y_train)\n",
    "\n",
    "    X_test = test_data[features]\n",
    "    y_test = test_data['target']\n",
    "    \n",
    "    # Handle imbalanced data using SMOTE\n",
    "    smote = SMOTE(random_state=42)\n",
    "    X_train_resampled, y_train_resampled = smote.fit_resample(X_train, y_train)\n",
    "\n",
    "    # Train a Random Forest Classifier\n",
    "    model = RandomForestClassifier(random_state=42, class_weight='balanced')\n",
    "    model.fit(X_train_resampled, y_train_resampled)\n",
    "    \n",
    "    # Evaluate the model\n",
    "    y_pred = model.predict(X_test)\n",
    "    accuracy = accuracy_score(y_test, y_pred)\n",
    "    \n",
    "    print(f\"\\nTraining users: {train_users}\")\n",
    "    print(f\"Model Accuracy on Test Set: {accuracy:.2f}\")\n",
    "    \n",
    "    i += 1"
   ]
  },
  {
   "cell_type": "code",
   "execution_count": null,
   "metadata": {},
   "outputs": [],
   "source": [
    "# Final model evaluation\n",
    "print(\"\\nFinal Model Evaluation:\")\n",
    "print(f\"Training users: {train_users}\")\n",
    "print(f\"Model Accuracy on Test Set: {accuracy:.2f}\")"
   ]
  },
  {
   "cell_type": "code",
   "execution_count": null,
   "metadata": {},
   "outputs": [],
   "source": [
    "# Classification report for detailed evaluation\n",
    "print(\"\\nClassification Report:\")\n",
    "print(classification_report(y_test, y_pred))"
   ]
  },
  {
   "cell_type": "code",
   "execution_count": null,
   "metadata": {},
   "outputs": [],
   "source": [
    "# Confusion matrix\n",
    "print(\"\\nConfusion Matrix:\")\n",
    "print(confusion_matrix(y_test, y_pred))"
   ]
  },
  {
   "cell_type": "code",
   "execution_count": null,
   "metadata": {},
   "outputs": [],
   "source": [
    "print(len(model.feature_importances_), len(features))\n",
    "print(model.feature_importances_, features)\n",
    "\n",
    "# Feature importance\n",
    "feature_importance = pd.Series(model.feature_importances_, index=features).sort_values(ascending=False)\n",
    "print(\"\\nFeature Importance:\")\n",
    "print(feature_importance)"
   ]
  },
  {
   "cell_type": "code",
   "execution_count": null,
   "metadata": {},
   "outputs": [],
   "source": [
    "# Check the distribution of users in training and testing sets\n",
    "print(\"\\nUsers in the training set:\", train_data['fitbit_id'].unique())\n",
    "print(\"Users in the test set:\", test_data['fitbit_id'].unique())"
   ]
  },
  {
   "cell_type": "code",
   "execution_count": null,
   "metadata": {},
   "outputs": [],
   "source": [
    "# Plot average steps per user\n",
    "plt.figure(figsize=(10, 6))\n",
    "sns.barplot(x=average_steps_per_person.index, y=average_steps_per_person.values)\n",
    "plt.title(\"Average Number of Steps per Person at 18:00 on a Working Day\")\n",
    "plt.xlabel(\"User ID\")\n",
    "plt.ylabel(\"Average Steps\")\n",
    "plt.show()"
   ]
  },
  {
   "cell_type": "code",
   "execution_count": null,
   "metadata": {},
   "outputs": [],
   "source": [
    "# Plot confusion matrix as a heatmap\n",
    "plt.figure(figsize=(8, 6))\n",
    "sns.heatmap(confusion_matrix(y_test, y_pred), annot=True, fmt='d', cmap='Blues', \n",
    "            xticklabels=['Did Not Reach', 'Reached'], yticklabels=['Did Not Reach', 'Reached'])\n",
    "plt.title(\"Confusion Matrix\")\n",
    "plt.xlabel(\"Predicted\")\n",
    "plt.ylabel(\"Actual\")\n",
    "plt.show()"
   ]
  },
  {
   "cell_type": "code",
   "execution_count": null,
   "metadata": {},
   "outputs": [],
   "source": [
    "# Plot feature importance\n",
    "plt.figure(figsize=(10, 6))\n",
    "sns.barplot(x=feature_importance.values, y=feature_importance.index, palette='viridis')\n",
    "plt.title(\"Feature Importance\")\n",
    "plt.xlabel(\"Importance\")\n",
    "plt.ylabel(\"Feature\")\n",
    "plt.show()"
   ]
  },
  {
   "cell_type": "code",
   "execution_count": null,
   "metadata": {},
   "outputs": [],
   "source": [
    "# Summary of findings\n",
    "print(\"\\nSummary of Findings:\")\n",
    "print(\"1. The average number of steps per person at 18:00 on a working day varies significantly:\")\n",
    "print(f\"   - Most active user: User 328 ({average_steps_per_person[328]:.2f} steps)\")\n",
    "print(f\"   - Least active user: User 349 ({average_steps_per_person[349]:.2f} steps)\")\n",
    "print(\"2. A Random Forest model was developed to predict whether a person will reach their average steps.\")\n",
    "print(f\"   - Model accuracy: {accuracy:.2f}\")\n",
    "print(\"   - Key features influencing predictions: distance, mets, calories, and level.\")\n",
    "print(\"   - Seasonal and day-of-week features have minimal impact.\")\n",
    "print(\"3. The model can be used to provide personalized recommendations to users based on their activity patterns.\")"
   ]
  },
  {
   "cell_type": "code",
   "execution_count": null,
   "metadata": {},
   "outputs": [],
   "source": [
    "# Save results to a text file\n",
    "with open(\"assignment_results.txt\", \"w\") as f:\n",
    "    f.write(\"Assignment Results:\\n\")\n",
    "    f.write(\"1. Average Steps per Person:\\n\")\n",
    "    f.write(average_steps_per_person.to_string())\n",
    "    f.write(\"\\n\\n2. Model Performance:\\n\")\n",
    "    f.write(f\"Accuracy: {accuracy:.2f}\\n\")\n",
    "    f.write(\"Classification Report:\\n\")\n",
    "    f.write(classification_report(y_test, y_pred))\n",
    "    f.write(\"\\nConfusion Matrix:\\n\")\n",
    "    f.write(str(confusion_matrix(y_test, y_pred)))\n",
    "    f.write(\"\\n\\n3. Feature Importance:\\n\")\n",
    "    f.write(feature_importance.to_string())"
   ]
  },
  {
   "cell_type": "code",
   "execution_count": null,
   "metadata": {},
   "outputs": [],
   "source": [
    "# User input for prediction\n",
    "def predict_for_user():\n",
    "    print(\"\\nPredict whether a user will reach their average steps:\")\n",
    "    hour = int(input(\"Enter the hour (0-23): \"))\n",
    "    day = int(input(\"Enter the day of the week (0=Monday, 6=Sunday): \"))\n",
    "    steps = float(input(\"Enter the current number of steps: \"))\n",
    "    calories = float(input(\"Enter the calories burned: \"))\n",
    "    mets = float(input(\"Enter the METs: \"))\n",
    "    level = float(input(\"Enter the activity level: \"))\n",
    "    distance = float(input(\"Enter the distance covered: \"))\n",
    "    is_holiday = int(input(\"Is it a holiday? (1=Yes, 0=No): \"))\n",
    "\n",
    "    # Create a DataFrame for the user input\n",
    "    user_data = pd.DataFrame({\n",
    "        'calories': [calories],\n",
    "        'mets': [mets],\n",
    "        'level': [level],\n",
    "        'distance': [distance],\n",
    "        'is_holiday': [is_holiday],\n",
    "        'season_Spring': [0],\n",
    "        'season_Summer': [0],\n",
    "        'season_Autumn': [0],\n",
    "        'season_Winter': [0],\n",
    "        'day_of_week_0': [0],\n",
    "        'day_of_week_1': [0],\n",
    "        'day_of_week_2': [0],\n",
    "        'day_of_week_3': [0],\n",
    "        'day_of_week_4': [0]\n",
    "    })\n",
    "\n",
    "    # Set the correct season and day of the week\n",
    "    user_data[f'season_{get_season(pd.to_datetime(\"2023-01-01\"))}'] = 1  # Replace with actual date logic\n",
    "    user_data[f'day_of_week_{day}'] = 1\n",
    "\n",
    "    # Predict\n",
    "    prediction = model.predict(user_data[features])\n",
    "    if prediction[0] == 1:\n",
    "        print(\"\\nPrediction: The user will reach their average steps.\")\n",
    "    else:\n",
    "        print(\"\\nPrediction: The user will NOT reach their average steps.\")\n",
    "\n",
    "# Run the prediction function\n",
    "predict_for_user()"
   ]
  }
 ],
 "metadata": {
  "kernelspec": {
   "display_name": "base",
   "language": "python",
   "name": "python3"
  },
  "language_info": {
   "codemirror_mode": {
    "name": "ipython",
    "version": 3
   },
   "file_extension": ".py",
   "mimetype": "text/x-python",
   "name": "python",
   "nbconvert_exporter": "python",
   "pygments_lexer": "ipython3",
   "version": "3.12.4"
  }
 },
 "nbformat": 4,
 "nbformat_minor": 2
}
